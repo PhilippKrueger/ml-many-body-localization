{
 "cells": [
  {
   "cell_type": "code",
   "execution_count": 13,
   "metadata": {},
   "outputs": [
    {
     "data": {
      "text/plain": [
       "True"
      ]
     },
     "execution_count": 13,
     "metadata": {},
     "output_type": "execute_result"
    }
   ],
   "source": [
    "import numpy as np\n",
    "import qutip\n",
    "# generate test matrix (using qutip for convenience)\n",
    "dm = qutip.rand_dm_hs(8, dims=[[4, 2]] * 2).full()\n",
    "# reshape to do the partial trace easily using np.einsum\n",
    "reshaped_dm = dm.reshape([4, 2, 4, 2])\n",
    "# partial trace the second space\n",
    "reduced_dm = np.einsum('jiki->jk', reshaped_dm)\n",
    "# check results with qutip\n",
    "qutip_dm = qutip.Qobj(dm, dims=[[4, 2]] * 2)\n",
    "reduced_dm_via_qutip = qutip_dm.ptrace([0]).full()\n",
    "# check consistency of results\n",
    "np.allclose(reduced_dm, reduced_dm_via_qutip)"
   ]
  },
  {
   "cell_type": "code",
   "execution_count": 15,
   "metadata": {},
   "outputs": [
    {
     "data": {
      "text/plain": [
       "(2, 2)"
      ]
     },
     "execution_count": 15,
     "metadata": {},
     "output_type": "execute_result"
    }
   ],
   "source": [
    "np.shape([[4, 2]] * 2)"
   ]
  },
  {
   "cell_type": "code",
   "execution_count": 16,
   "metadata": {},
   "outputs": [
    {
     "data": {
      "text/plain": [
       "(8, 8)"
      ]
     },
     "execution_count": 16,
     "metadata": {},
     "output_type": "execute_result"
    }
   ],
   "source": [
    "np.shape(dm)"
   ]
  },
  {
   "cell_type": "code",
   "execution_count": 3,
   "metadata": {},
   "outputs": [
    {
     "name": "stdout",
     "output_type": "stream",
     "text": [
      "density matrix:\n",
      " [[0. 0. 0. 0. 0. 0. 0. 0.]\n",
      " [0. 1. 0. 0. 0. 0. 0. 0.]\n",
      " [0. 0. 2. 0. 0. 0. 0. 0.]\n",
      " [0. 0. 0. 3. 0. 0. 0. 0.]\n",
      " [0. 0. 0. 0. 4. 0. 0. 0.]\n",
      " [0. 0. 0. 0. 0. 5. 0. 0.]\n",
      " [0. 0. 0. 0. 0. 0. 6. 0.]\n",
      " [0. 0. 0. 0. 0. 0. 0. 7.]]\n",
      "Summation over all but first lattice site:\n",
      " [[ 6.+0.j  0.+0.j]\n",
      " [ 0.+0.j 22.+0.j]]\n",
      "Summation over first lattice site:\n",
      " [[ 4.+0.j  0.+0.j  0.+0.j  0.+0.j]\n",
      " [ 0.+0.j  6.+0.j  0.+0.j  0.+0.j]\n",
      " [ 0.+0.j  0.+0.j  8.+0.j  0.+0.j]\n",
      " [ 0.+0.j  0.+0.j  0.+0.j 10.+0.j]]\n"
     ]
    }
   ],
   "source": [
    "import numpy as np\n",
    "import qutip\n",
    "v = np.arange(8)\n",
    "dm =v*np.identity(8)\n",
    "print(\"density matrix:\\n\",dm)\n",
    "qutip_dm = qutip.Qobj(dm, dims=[[2]*3]*2, type='oper')\n",
    "\n",
    "reduced_dm_via_qutip = qutip_dm.ptrace([0]).full()\n",
    "print(\"Summation over all but first lattice site:\\n\",reduced_dm_via_qutip)\n",
    "reduced_dm_via_qutip = qutip_dm.ptrace([1,2]).full()\n",
    "print(\"Summation over first lattice site:\\n\",reduced_dm_via_qutip)"
   ]
  },
  {
   "cell_type": "code",
   "execution_count": 81,
   "metadata": {},
   "outputs": [
    {
     "data": {
      "text/plain": [
       "<matplotlib.legend.Legend at 0x1d9938ab3c8>"
      ]
     },
     "execution_count": 81,
     "metadata": {},
     "output_type": "execute_result"
    },
    {
     "data": {
      "image/png": "[encoded data removed]",
      "text/plain": [
       "<Figure size 432x288 with 2 Axes>"
      ]
     },
     "metadata": {
      "needs_background": "light"
     },
     "output_type": "display_data"
    }
   ],
   "source": [
    "import matplotlib.pyplot as plt\n",
    "\n",
    "harvest = np.random.rand(7,90)\n",
    "line=np.arange(1, 7, 0.1)\n",
    "\n",
    "fig, ax = plt.subplots()\n",
    "plt.title(\"Predicted phases and $W_c$ over block size $n$\")\n",
    "pos=ax.imshow(harvest, extent=(0, 4, 0, 7), aspect=0.5,cmap='bwr', )\n",
    "fig.colorbar(pos, ax=ax)\n",
    "ax.plot(np.ones(60), line, 'k:', label='$W_c$',linewidth=4)\n",
    "plt.ylabel(\"n\")\n",
    "plt.xlabel(\"$W$\")\n",
    "\n",
    "ax.legend()"
   ]
  },
  {
   "cell_type": "code",
   "execution_count": 40,
   "metadata": {},
   "outputs": [
    {
     "data": {
      "text/plain": [
       "array([1.])"
      ]
     },
     "execution_count": 40,
     "metadata": {},
     "output_type": "execute_result"
    }
   ],
   "source": [
    "np.ones(len(line))"
   ]
  },
  {
   "cell_type": "code",
   "execution_count": 41,
   "metadata": {},
   "outputs": [
    {
     "data": {
      "text/plain": [
       "1"
      ]
     },
     "execution_count": 41,
     "metadata": {},
     "output_type": "execute_result"
    }
   ],
   "source": [
    "len(line)"
   ]
  },
  {
   "cell_type": "code",
   "execution_count": null,
   "metadata": {},
   "outputs": [],
   "source": []
  }
 ],
 "metadata": {
  "kernelspec": {
   "display_name": "Python 3",
   "language": "python",
   "name": "python3"
  },
  "language_info": {
   "codemirror_mode": {
    "name": "ipython",
    "version": 3
   },
   "file_extension": ".py",
   "mimetype": "text/x-python",
   "name": "python",
   "nbconvert_exporter": "python",
   "pygments_lexer": "ipython3",
   "version": "3.7.4"
  }
 },
 "nbformat": 4,
 "nbformat_minor": 4
}
