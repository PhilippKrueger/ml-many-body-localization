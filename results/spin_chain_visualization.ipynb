{
 "cells": [
  {
   "cell_type": "code",
   "execution_count": 1,
   "metadata": {},
   "outputs": [],
   "source": [
    "import qutip\n",
    "import numpy as np\n",
    "from scipy import sparse"
   ]
  },
  {
   "cell_type": "code",
   "execution_count": 2,
   "metadata": {},
   "outputs": [],
   "source": [
    "Id = sparse.csr_matrix(np.eye(2))\n",
    "Sx = sparse.csr_matrix([[0., 1.], [1., 0.]])\n",
    "Sz = sparse.csr_matrix([[1., 0.], [0., -1.]])\n",
    "Splus = sparse.csr_matrix([[0., 1.], [0., 0.]])\n",
    "Sminus = sparse.csr_matrix([[0., 0.], [1., 0.]])\n",
    "\n",
    "def singesite_to_full(op, i, L):\n",
    "    op_list = [Id]*L  # = [Id, Id, Id ...] with L entries\n",
    "    op_list[i] = op\n",
    "    full = op_list[0]\n",
    "    for op_i in op_list[1:]:\n",
    "        full = sparse.kron(full, op_i, format=\"csr\")\n",
    "    return full\n",
    "\n",
    "\n",
    "def gen_sx_list(L):\n",
    "    return [singesite_to_full(Sx, i, L) for i in range(L)]\n",
    "\n",
    "\n",
    "def gen_sz_list(L):\n",
    "    return [singesite_to_full(Sz, i, L) for i in range(L)]\n",
    "\n",
    "def gen_hamiltonian_random_h(L, W, J=1.):\n",
    "    \"\"\" assumes open boundary conditions \"\"\"\n",
    "    sx_list = gen_sx_list(L)\n",
    "    sz_list = gen_sz_list(L)\n",
    "    H = sparse.csr_matrix((2**L, 2**L))\n",
    "    K = []\n",
    "    for j in range(L-1):\n",
    "        h = np.random.uniform(-W, W)\n",
    "        K.append(h)\n",
    "        H = H - J *( sx_list[j] * sx_list[(j+1)%L])\n",
    "        H = H - h * sz_list[j]\n",
    "    h = np.random.uniform(-W, W)\n",
    "    K.append(h)\n",
    "    H = H - np.random.uniform(-W, W) * sz_list[-1]\n",
    "    return H, K\n",
    "\n",
    "def gen_hamiltonian_lists(L, h, J):\n",
    "    sx_list = gen_sx_list(L)\n",
    "    sy_list = gen_sy_list(L)\n",
    "    sz_list = gen_sz_list(L)\n",
    "    H = sparse.csr_matrix((2 ** L, 2 ** L))\n",
    "    H = H + J*(sx_list[0] * sx_list[1] + sy_list[0] * sy_list[1] + sz_list[0] * sz_list[1]) - h[0]*sz_list[0]\n",
    "    for i in range(1, L-1):\n",
    "        H += + J*(sx_list[i] * sx_list[i+1] + sy_list[i] * sy_list[i+1] + sz_list[i] * sz_list[i+1]) - h[i]*sz_list[i]\n",
    "    return H"
   ]
  },
  {
   "cell_type": "code",
   "execution_count": 8,
   "metadata": {},
   "outputs": [
    {
     "ename": "TypeError",
     "evalue": "gen_hamiltonian_lists() got an unexpected keyword argument 'W'",
     "output_type": "error",
     "traceback": [
      "\u001b[1;31m---------------------------------------------------------------------------\u001b[0m",
      "\u001b[1;31mTypeError\u001b[0m                                 Traceback (most recent call last)",
      "\u001b[1;32m<ipython-input-8-827e7240e8e3>\u001b[0m in \u001b[0;36m<module>\u001b[1;34m\u001b[0m\n\u001b[0;32m      4\u001b[0m \u001b[0mW\u001b[0m\u001b[1;33m=\u001b[0m\u001b[1;36m8\u001b[0m\u001b[1;33m\u001b[0m\u001b[1;33m\u001b[0m\u001b[0m\n\u001b[0;32m      5\u001b[0m \u001b[0mhs\u001b[0m \u001b[1;33m=\u001b[0m \u001b[0mnp\u001b[0m\u001b[1;33m.\u001b[0m\u001b[0mrandom\u001b[0m\u001b[1;33m.\u001b[0m\u001b[0muniform\u001b[0m\u001b[1;33m(\u001b[0m\u001b[1;33m-\u001b[0m\u001b[0mW\u001b[0m\u001b[1;33m,\u001b[0m \u001b[0mW\u001b[0m\u001b[1;33m,\u001b[0m \u001b[1;36m10\u001b[0m\u001b[1;33m)\u001b[0m\u001b[1;33m\u001b[0m\u001b[1;33m\u001b[0m\u001b[0m\n\u001b[1;32m----> 6\u001b[1;33m \u001b[0mH\u001b[0m \u001b[1;33m=\u001b[0m \u001b[0mgen_hamiltonian_lists\u001b[0m\u001b[1;33m(\u001b[0m\u001b[1;36m10\u001b[0m\u001b[1;33m,\u001b[0m \u001b[0mW\u001b[0m\u001b[1;33m=\u001b[0m\u001b[0mW\u001b[0m\u001b[1;33m,\u001b[0m \u001b[0mJ\u001b[0m\u001b[1;33m=\u001b[0m\u001b[1;36m1.\u001b[0m\u001b[1;33m)\u001b[0m\u001b[1;33m\u001b[0m\u001b[1;33m\u001b[0m\u001b[0m\n\u001b[0m\u001b[0;32m      7\u001b[0m \u001b[0mh\u001b[0m \u001b[1;33m=\u001b[0m \u001b[0mhs\u001b[0m\u001b[1;33m\u001b[0m\u001b[1;33m\u001b[0m\u001b[0m\n\u001b[0;32m      8\u001b[0m \u001b[0mE\u001b[0m\u001b[1;33m,\u001b[0m \u001b[0mv\u001b[0m \u001b[1;33m=\u001b[0m \u001b[0mqutip\u001b[0m\u001b[1;33m.\u001b[0m\u001b[0mQobj\u001b[0m\u001b[1;33m(\u001b[0m\u001b[0mH\u001b[0m\u001b[1;33m)\u001b[0m\u001b[1;33m.\u001b[0m\u001b[0mgroundstate\u001b[0m\u001b[1;33m(\u001b[0m\u001b[1;33m)\u001b[0m\u001b[1;33m\u001b[0m\u001b[1;33m\u001b[0m\u001b[0m\n",
      "\u001b[1;31mTypeError\u001b[0m: gen_hamiltonian_lists() got an unexpected keyword argument 'W'"
     ]
    }
   ],
   "source": [
    "from qutip.qobj import Qobj\n",
    "import matplotlib.pyplot as plt \n",
    "\n",
    "W=8\n",
    "hs = np.random.uniform(-W, W, 10)\n",
    "H = gen_hamiltonian_lists(10, W=W, J=1.)\n",
    "h = hs\n",
    "E, v = qutip.Qobj(H).groundstate() \n",
    "v = np.asarray(v)\n",
    "spin_list=[np.tensordot(singesite_to_full(Sz, i, L=10)@v, v, axes=2) for i in range(0, 10)]\n",
    "\n",
    "print(np.array(h))\n",
    "print(np.array(spin_list))\n",
    "\n",
    "fig, ax = plt.subplots()\n",
    "# plt.axhline(y=0, xmin=0, xmax=1, color='k')\n",
    "plt.title(\"$\\hat{S}_{zi}$ and $h_i$ at $W=$\"+str(W)+\".0 J, system size $L=10$\")\n",
    "plt.text(-1, -1.5, \"$\\hat{S}_z$:\", horizontalalignment='center')\n",
    "plt.text(-1, -2., \"$h_i$:\", horizontalalignment='center')\n",
    "for i in range(len(spin_list)):\n",
    "    plt.arrow(i, 0, 0, np.real(spin_list[i]), width=0.1, head_width=0.5, head_length=0.2, color='#071013', length_includes_head=True)\n",
    "    plt.scatter(i,0, 200, '#75abbc')\n",
    "    # plt.plot(i,i)\n",
    "    plt.text(i, -1.5, format(np.real(spin_list[i]), \".2f\"), horizontalalignment='center')\n",
    "    plt.text(i, -2., format(np.real(h[i]), \".2f\"), horizontalalignment='center')\n",
    "plt.xlim(-2, len(spin_list))\n",
    "plt.ylim(-2.5, 1.5)\n",
    "\n",
    "plt.tight_layout()\n",
    "fig.patch.set_visible(False)\n",
    "ax.axis('off')\n",
    "\n",
    "plt.show()"
   ]
  },
  {
   "cell_type": "code",
   "execution_count": 4,
   "metadata": {},
   "outputs": [
    {
     "name": "stdout",
     "output_type": "stream",
     "text": [
      "[-0.32312459  0.40835278  0.28324504  0.33988671  0.4777935  -0.3663534\n",
      "  0.03166194  0.03720731  0.05427421 -0.03762819]\n",
      "[-0.32516401+0.j  0.21700374+0.j  0.14660135+0.j  0.17425142+0.j\n",
      "  0.23936108+0.j -0.18520989+0.j  0.01611719+0.j  0.01860986+0.j\n",
      "  0.02714227+0.j -0.02263644+0.j]\n"
     ]
    },
    {
     "data": {
      "image/png": "[encoded data removed]",
      "text/plain": [
       "<Figure size 432x288 with 1 Axes>"
      ]
     },
     "metadata": {
      "needs_background": "light"
     },
     "output_type": "display_data"
    }
   ],
   "source": [
    "from qutip.qobj import Qobj\n",
    "import matplotlib.pyplot as plt \n",
    "\n",
    "W=0.5\n",
    "H, h = gen_hamiltonian_random_h(10, W=W, J=1.)\n",
    "E, v = qutip.Qobj(H).groundstate() \n",
    "v = np.asarray(v)\n",
    "spin_list=[np.tensordot(singesite_to_full(Sz, i, L=10)@v, v, axes=2) for i in range(0, 10)]\n",
    "\n",
    "print(np.array(h))\n",
    "print(np.array(spin_list))\n",
    "\n",
    "fig, ax = plt.subplots()\n",
    "# plt.axhline(y=0, xmin=0, xmax=1, color='k')\n",
    "plt.title(\"$\\hat{S}_{zi}$ and $h_i$ at $W=$\"+str(W))\n",
    "plt.text(-1, -1.5, \"$\\hat{S}_z$:\", horizontalalignment='center')\n",
    "plt.text(-1, -2., \"$h_i$:\", horizontalalignment='center')\n",
    "for i in range(len(spin_list)):\n",
    "    plt.arrow(i, 0, 0, np.real(spin_list[i]), width=0.1, head_width=0.5, head_length=0.2, color='#071013', length_includes_head=True)\n",
    "    plt.scatter(i,0, 200, '#75abbc')\n",
    "    # plt.plot(i,i)\n",
    "    plt.text(i, -1.5, format(np.real(spin_list[i]), \".2f\"), horizontalalignment='center')\n",
    "    plt.text(i, -2., format(np.real(h[i]), \".2f\"), horizontalalignment='center')\n",
    "plt.xlim(-2, len(spin_list))\n",
    "plt.ylim(-2.5, 1.5)\n",
    "\n",
    "plt.tight_layout()\n",
    "fig.patch.set_visible(False)\n",
    "ax.axis('off')\n",
    "\n",
    "plt.show()"
   ]
  },
  {
   "cell_type": "code",
   "execution_count": 5,
   "metadata": {},
   "outputs": [
    {
     "name": "stdout",
     "output_type": "stream",
     "text": [
      "WARNING: Ground state may be degenerate. Use Q.eigenstates()\n",
      "[0. 0. 0. 0. 0. 0. 0. 0. 0. 0.]\n",
      "[ 1.44559301e-15+0.j -1.06767656e-16+0.j -1.34523232e-16+0.j\n",
      " -1.90034383e-16+0.j -1.60544084e-16+0.j -1.46666296e-16+0.j\n",
      " -1.01663012e-15+0.j  6.68003216e-16+0.j -1.52555462e-15+0.j\n",
      " -2.10942375e-15+0.j]\n"
     ]
    },
    {
     "data": {
      "image/png": "[encoded data removed]",
      "text/plain": [
       "<Figure size 432x288 with 1 Axes>"
      ]
     },
     "metadata": {
      "needs_background": "light"
     },
     "output_type": "display_data"
    }
   ],
   "source": [
    "from qutip.qobj import Qobj\n",
    "import matplotlib.pyplot as plt \n",
    "\n",
    "W=0.0\n",
    "H, h = gen_hamiltonian_random_h(10, W=W, J=1.)\n",
    "E, v = qutip.Qobj(H).groundstate() \n",
    "v = np.asarray(v)\n",
    "spin_list=[np.tensordot(singesite_to_full(Sz, i, L=10)@v, v, axes=2) for i in range(0, 10)]\n",
    "\n",
    "print(np.array(h))\n",
    "print(np.array(spin_list))\n",
    "\n",
    "fig, ax = plt.subplots()\n",
    "# plt.axhline(y=0, xmin=0, xmax=1, color='k')\n",
    "plt.title(\"$\\hat{S}_{zi}$ and $h_i$ at $W=$\"+str(W))\n",
    "plt.text(-1, -1.5, \"$\\hat{S}_z$:\", horizontalalignment='center')\n",
    "plt.text(-1, -2., \"$h_i$:\", horizontalalignment='center')\n",
    "for i in range(len(spin_list)):\n",
    "    plt.arrow(i, 0, 0, np.real(spin_list[i]), width=0.1, head_width=0.5, head_length=0.2, color='#071013', length_includes_head=True)\n",
    "    plt.scatter(i,0, 200, '#75abbc')\n",
    "    # plt.plot(i,i)\n",
    "    plt.text(i, -1.5, format(np.real(spin_list[i]), \".2f\"), horizontalalignment='center')\n",
    "    plt.text(i, -2., format(np.real(h[i]), \".2f\"), horizontalalignment='center')\n",
    "plt.xlim(-2, len(spin_list))\n",
    "plt.ylim(-2.5, 1.5)\n",
    "\n",
    "plt.tight_layout()\n",
    "fig.patch.set_visible(False)\n",
    "ax.axis('off')\n",
    "\n",
    "plt.show()"
   ]
  },
  {
   "cell_type": "code",
   "execution_count": 20,
   "metadata": {},
   "outputs": [
    {
     "ename": "NameError",
     "evalue": "name 'plot_qubism' is not defined",
     "output_type": "error",
     "traceback": [
      "\u001b[1;31m---------------------------------------------------------------------------\u001b[0m",
      "\u001b[1;31mNameError\u001b[0m                                 Traceback (most recent call last)",
      "\u001b[1;32m<ipython-input-20-b1d00a921980>\u001b[0m in \u001b[0;36m<module>\u001b[1;34m\u001b[0m\n\u001b[0;32m      1\u001b[0m \u001b[0mket\u001b[0m \u001b[1;33m=\u001b[0m \u001b[0mv\u001b[0m\u001b[1;33m\u001b[0m\u001b[1;33m\u001b[0m\u001b[0m\n\u001b[1;32m----> 2\u001b[1;33m \u001b[0mplot_qubism\u001b[0m\u001b[1;33m(\u001b[0m\u001b[0mket\u001b[0m\u001b[1;33m,\u001b[0m \u001b[0mtheme\u001b[0m\u001b[1;33m=\u001b[0m\u001b[1;34m'light'\u001b[0m\u001b[1;33m,\u001b[0m \u001b[0mhow\u001b[0m\u001b[1;33m=\u001b[0m\u001b[1;34m'pairs'\u001b[0m\u001b[1;33m,\u001b[0m \u001b[0mgrid_iteration\u001b[0m\u001b[1;33m=\u001b[0m\u001b[1;36m1\u001b[0m\u001b[1;33m,\u001b[0m \u001b[0mlegend_iteration\u001b[0m\u001b[1;33m=\u001b[0m\u001b[1;36m0\u001b[0m\u001b[1;33m,\u001b[0m \u001b[0mfig\u001b[0m\u001b[1;33m=\u001b[0m\u001b[1;32mNone\u001b[0m\u001b[1;33m,\u001b[0m \u001b[0max\u001b[0m\u001b[1;33m=\u001b[0m\u001b[1;32mNone\u001b[0m\u001b[1;33m,\u001b[0m \u001b[0mfigsize\u001b[0m\u001b[1;33m=\u001b[0m\u001b[1;33m(\u001b[0m\u001b[1;36m6\u001b[0m\u001b[1;33m,\u001b[0m \u001b[1;36m6\u001b[0m\u001b[1;33m)\u001b[0m\u001b[1;33m)\u001b[0m\u001b[1;33m\u001b[0m\u001b[1;33m\u001b[0m\u001b[0m\n\u001b[0m",
      "\u001b[1;31mNameError\u001b[0m: name 'plot_qubism' is not defined"
     ]
    }
   ],
   "source": [
    "import\n",
    "\n",
    "ket = v\n",
    "plot_qubism(ket, theme='light', how='pairs', grid_iteration=1, legend_iteration=0, fig=None, ax=None, figsize=(6, 6))"
   ]
  },
  {
   "cell_type": "code",
   "execution_count": 39,
   "metadata": {},
   "outputs": [
    {
     "data": {
      "text/plain": [
       "1.523487447556036"
      ]
     },
     "execution_count": 39,
     "metadata": {},
     "output_type": "execute_result"
    }
   ],
   "source": [
    "np.random.uniform(-10, 10)"
   ]
  },
  {
   "cell_type": "code",
   "execution_count": null,
   "metadata": {},
   "outputs": [],
   "source": []
  }
 ],
 "metadata": {
  "kernelspec": {
   "display_name": "Python 3",
   "language": "python",
   "name": "python3"
  },
  "language_info": {
   "codemirror_mode": {
    "name": "ipython",
    "version": 3
   },
   "file_extension": ".py",
   "mimetype": "text/x-python",
   "name": "python",
   "nbconvert_exporter": "python",
   "pygments_lexer": "ipython3",
   "version": "3.7.4"
  }
 },
 "nbformat": 4,
 "nbformat_minor": 4
}
